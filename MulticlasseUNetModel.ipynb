{
  "nbformat": 4,
  "nbformat_minor": 0,
  "metadata": {
    "colab": {
      "name": "MulticlasseUNetModel.ipynb",
      "provenance": [],
      "collapsed_sections": [
        "M6oOamGGfAVg",
        "xNKRnuYgfie5",
        "ZvXCBE_Vfnjf",
        "rcr0XUb3f2Nz",
        "L4QTLOwpgAj-",
        "x9Z42TlmgFxJ",
        "uESbvHKNgKRK"
      ],
      "toc_visible": true
    },
    "kernelspec": {
      "name": "python3",
      "display_name": "Python 3"
    },
    "language_info": {
      "name": "python"
    }
  },
  "cells": [
    {
      "cell_type": "code",
      "metadata": {
        "colab": {
          "base_uri": "https://localhost:8080/"
        },
        "id": "8UMeaMK0TyVI",
        "outputId": "10886b24-e1b8-4bee-f770-c48ebe1af79a"
      },
      "source": [
        "from zipfile import ZipFile\n",
        "file_name = \"/content/origin_health_role_challenge_dataset.zip\"\n",
        "\n",
        "with ZipFile(file_name , 'r') as zip:\n",
        "  zip.extractall()\n",
        "  print('Done')"
      ],
      "execution_count": null,
      "outputs": [
        {
          "output_type": "stream",
          "text": [
            "Done\n"
          ],
          "name": "stdout"
        }
      ]
    },
    {
      "cell_type": "markdown",
      "metadata": {
        "id": "MB3pDCXOdnpF"
      },
      "source": [
        "### Importing Necessary Libraries"
      ]
    },
    {
      "cell_type": "code",
      "metadata": {
        "id": "WPn1TAyjU1wv"
      },
      "source": [
        "from tensorflow.keras.utils import normalize\n",
        "import os\n",
        "import glob\n",
        "import cv2\n",
        "import numpy as np\n",
        "from matplotlib import pyplot as plt\n",
        "import keras\n",
        "from keras.models import Model\n",
        "from keras.layers import Input, Conv2D, MaxPooling2D, UpSampling2D, concatenate, Conv2DTranspose, BatchNormalization, Dropout, Lambda\n",
        "from tensorflow.keras.utils import normalize\n",
        "import os\n",
        "import cv2\n",
        "from PIL import Image\n",
        "import numpy as np\n",
        "from matplotlib import pyplot as plt\n",
        "from tensorflow.keras.utils import to_categorical\n",
        "from sklearn.preprocessing import LabelEncoder\n",
        "from sklearn.preprocessing import LabelEncoder\n",
        "from tensorflow.keras.utils import to_categorical"
      ],
      "execution_count": null,
      "outputs": []
    },
    {
      "cell_type": "markdown",
      "metadata": {
        "id": "zYHi2A9NWaoS"
      },
      "source": [
        "### **Multclass U-Net Model**"
      ]
    },
    {
      "cell_type": "code",
      "metadata": {
        "id": "kd_NQrooU3k8"
      },
      "source": [
        "\n",
        "\n",
        "\n",
        "\n",
        "################################################################\n",
        "def multi_unet_model(n_classes, IMG_HEIGHT, IMG_WIDTH, IMG_CHANNELS):\n",
        "#Build the model\n",
        "    inputs = Input((IMG_HEIGHT, IMG_WIDTH, IMG_CHANNELS))\n",
        "    #s = Lambda(lambda x: x / 255)(inputs)   #No need for this if we normalize our inputs beforehand\n",
        "    s = inputs\n",
        "\n",
        "    #Contraction path\n",
        "    c1 = Conv2D(16, (3, 3), activation='relu', kernel_initializer='he_normal', padding='same')(s)\n",
        "    c1 = Dropout(0.1)(c1)\n",
        "    c1 = Conv2D(16, (3, 3), activation='relu', kernel_initializer='he_normal', padding='same')(c1)\n",
        "    p1 = MaxPooling2D((2, 2))(c1)\n",
        "    \n",
        "    c2 = Conv2D(32, (3, 3), activation='relu', kernel_initializer='he_normal', padding='same')(p1)\n",
        "    c2 = Dropout(0.1)(c2)\n",
        "    c2 = Conv2D(32, (3, 3), activation='relu', kernel_initializer='he_normal', padding='same')(c2)\n",
        "    p2 = MaxPooling2D((2, 2))(c2)\n",
        "     \n",
        "    c3 = Conv2D(64, (3, 3), activation='relu', kernel_initializer='he_normal', padding='same')(p2)\n",
        "    c3 = Dropout(0.2)(c3)\n",
        "    c3 = Conv2D(64, (3, 3), activation='relu', kernel_initializer='he_normal', padding='same')(c3)\n",
        "    p3 = MaxPooling2D((2, 2))(c3)\n",
        "     \n",
        "    c4 = Conv2D(128, (3, 3), activation='relu', kernel_initializer='he_normal', padding='same')(p3)\n",
        "    c4 = Dropout(0.2)(c4)\n",
        "    c4 = Conv2D(128, (3, 3), activation='relu', kernel_initializer='he_normal', padding='same')(c4)\n",
        "    p4 = MaxPooling2D(pool_size=(2, 2))(c4)\n",
        "     \n",
        "    c5 = Conv2D(256, (3, 3), activation='relu', kernel_initializer='he_normal', padding='same')(p4)\n",
        "    c5 = Dropout(0.3)(c5)\n",
        "    c5 = Conv2D(256, (3, 3), activation='relu', kernel_initializer='he_normal', padding='same')(c5)\n",
        "    \n",
        "    #Expansive path \n",
        "    u6 = Conv2DTranspose(128, (2, 2), strides=(2, 2), padding='same')(c5)\n",
        "    u6 = concatenate([u6, c4])\n",
        "    c6 = Conv2D(128, (3, 3), activation='relu', kernel_initializer='he_normal', padding='same')(u6)\n",
        "    c6 = Dropout(0.2)(c6)\n",
        "    c6 = Conv2D(128, (3, 3), activation='relu', kernel_initializer='he_normal', padding='same')(c6)\n",
        "     \n",
        "    u7 = Conv2DTranspose(64, (2, 2), strides=(2, 2), padding='same')(c6)\n",
        "    u7 = concatenate([u7, c3])\n",
        "    c7 = Conv2D(64, (3, 3), activation='relu', kernel_initializer='he_normal', padding='same')(u7)\n",
        "    c7 = Dropout(0.2)(c7)\n",
        "    c7 = Conv2D(64, (3, 3), activation='relu', kernel_initializer='he_normal', padding='same')(c7)\n",
        "     \n",
        "    u8 = Conv2DTranspose(32, (2, 2), strides=(2, 2), padding='same')(c7)\n",
        "    u8 = concatenate([u8, c2])\n",
        "    c8 = Conv2D(32, (3, 3), activation='relu', kernel_initializer='he_normal', padding='same')(u8)\n",
        "    c8 = Dropout(0.1)(c8)\n",
        "    c8 = Conv2D(32, (3, 3), activation='relu', kernel_initializer='he_normal', padding='same')(c8)\n",
        "     \n",
        "    u9 = Conv2DTranspose(16, (2, 2), strides=(2, 2), padding='same')(c8)\n",
        "    u9 = concatenate([u9, c1], axis=3)\n",
        "    c9 = Conv2D(16, (3, 3), activation='relu', kernel_initializer='he_normal', padding='same')(u9)\n",
        "    c9 = Dropout(0.1)(c9)\n",
        "    c9 = Conv2D(16, (3, 3), activation='relu', kernel_initializer='he_normal', padding='same')(c9)\n",
        "     \n",
        "    outputs = Conv2D(n_classes, (1, 1), activation='softmax')(c9)\n",
        "     \n",
        "    model = Model(inputs=[inputs], outputs=[outputs])\n",
        "    \n",
        "    \n",
        "    return model"
      ],
      "execution_count": null,
      "outputs": []
    },
    {
      "cell_type": "markdown",
      "metadata": {
        "id": "-HZW6lJJd-pw"
      },
      "source": [
        "# Setting Up the Directories and Dataset"
      ]
    },
    {
      "cell_type": "code",
      "metadata": {
        "id": "PYpMUFQlW2lW"
      },
      "source": [
        "SIZE=128\n",
        "n_classes=6\n",
        "train_image_dataset=[]\n",
        "train_mask_dataset=[]\n",
        "val_image_dataset=[]\n",
        "val_mask_dataset=[]"
      ],
      "execution_count": null,
      "outputs": []
    },
    {
      "cell_type": "code",
      "metadata": {
        "id": "TMEDIkTWXDiq"
      },
      "source": [
        "training_image_directory = '/content/interview/train/images'\n",
        "training_mask_directory = '/content/interview/train/labels'\n",
        "validation_image_directory = '/content/interview/train/images'\n",
        "validation_mask_directory = '/content/interview/train/labels'\n",
        "test_image_directory = '/content/interview/test/images/'"
      ],
      "execution_count": null,
      "outputs": []
    },
    {
      "cell_type": "markdown",
      "metadata": {
        "id": "1S8MM_aQeKBm"
      },
      "source": [
        "# Preparing the Data For MultiClass Segmentation"
      ]
    },
    {
      "cell_type": "markdown",
      "metadata": {
        "id": "ldqvizkqeQjC"
      },
      "source": [
        "**Preparing the training images datset**"
      ]
    },
    {
      "cell_type": "code",
      "metadata": {
        "id": "c9IBU127Ww4T"
      },
      "source": [
        "train_images = sorted(os.listdir(training_image_directory))\n",
        "for i, image_name in enumerate(train_images):    #Remember enumerate method adds a counter and returns the enumerate object\n",
        "    if (image_name.split('.')[1] == 'png'):\n",
        "        #print(image_directory+image_name)\n",
        "        image = cv2.imread(training_image_directory+'/'+image_name, 0)\n",
        "        # print(image_directory+image_name)\n",
        "        # image = Image.fromarray(image)\n",
        "        image = cv2.resize(image,(SIZE, SIZE))\n",
        "        train_image_dataset.append(image)\n",
        "\n"
      ],
      "execution_count": null,
      "outputs": []
    },
    {
      "cell_type": "markdown",
      "metadata": {
        "id": "J08jLknzeWEt"
      },
      "source": [
        "**Preparing the Masks Dataset by Resizing it into suitable shape**"
      ]
    },
    {
      "cell_type": "code",
      "metadata": {
        "id": "c4N6Xb8VX8k9"
      },
      "source": [
        "train_masks = sorted(os.listdir(training_mask_directory))\n",
        "for i, image_name in enumerate(train_masks):\n",
        "    if (image_name.split('.')[1] == 'png'):\n",
        "        image = cv2.imread(training_mask_directory+'/' + image_name, 0)\n",
        "        # image = Image.fromarray(image)\n",
        "        \n",
        "        image = cv2.resize(image,(SIZE, SIZE),interpolation = cv2.INTER_NEAREST)\n",
        "        train_mask_dataset.append(image)"
      ],
      "execution_count": null,
      "outputs": []
    },
    {
      "cell_type": "code",
      "metadata": {
        "id": "a2QFKBWr9IeS"
      },
      "source": [
        "val_images = sorted(os.listdir(validation_image_directory))\n",
        "for i, image_name in enumerate(val_images):    #Remember enumerate method adds a counter and returns the enumerate object\n",
        "    if (image_name.split('.')[1] == 'png'):\n",
        "        #print(image_directory+image_name)\n",
        "        image = cv2.imread(validation_image_directory+'/'+image_name, 0)\n",
        "        # print(image_directory+image_name)\n",
        "        # image = Image.fromarray(image)\n",
        "        image = cv2.resize(image,(SIZE, SIZE))\n",
        "        val_image_dataset.append(image)\n"
      ],
      "execution_count": null,
      "outputs": []
    },
    {
      "cell_type": "code",
      "metadata": {
        "id": "WKr4g7Hq9IbW"
      },
      "source": [
        "val_masks = sorted(os.listdir(validation_mask_directory))\n",
        "for i, image_name in enumerate(val_masks):\n",
        "    if (image_name.split('.')[1] == 'png'):\n",
        "        image = cv2.imread(validation_mask_directory+'/' + image_name, 0)\n",
        "        # image = Image.fromarray(image)\n",
        "        \n",
        "        image = cv2.resize(image,(SIZE, SIZE),interpolation = cv2.INTER_NEAREST)\n",
        "        val_mask_dataset.append(image)"
      ],
      "execution_count": null,
      "outputs": []
    },
    {
      "cell_type": "code",
      "metadata": {
        "id": "eDnxK7DSKx1A"
      },
      "source": [
        "test_image_dataset=[]\n",
        "test_images = sorted(os.listdir(test_image_directory))\n",
        "for i, image_name in enumerate(test_images):    #Remember enumerate method adds a counter and returns the enumerate object\n",
        "    if (image_name.split('.')[1] == 'png'):\n",
        "        #print(image_directory+image_name)\n",
        "        image = cv2.imread(test_image_directory+'/'+image_name, 0)\n",
        "        # print(image_directory+image_name)\n",
        "        # image = Image.fromarray(image)\n",
        "        image = cv2.resize(image,(SIZE, SIZE))\n",
        "        test_image_dataset.append(image)\n",
        "test_image= np.array(test_image_dataset)"
      ],
      "execution_count": null,
      "outputs": []
    },
    {
      "cell_type": "markdown",
      "metadata": {
        "id": "THY1Qw3NegMb"
      },
      "source": [
        "**Finally converting all the image and mask data elements into a Numpy Array**"
      ]
    },
    {
      "cell_type": "code",
      "metadata": {
        "id": "cY_U_W2J9xKJ"
      },
      "source": [
        "train_image = np.array(train_image_dataset)\n",
        "train_mask = np.array(train_mask_dataset)\n",
        "val_images = np.array(val_image_dataset)\n",
        "val_mask = np.array(val_mask_dataset)"
      ],
      "execution_count": null,
      "outputs": []
    },
    {
      "cell_type": "markdown",
      "metadata": {
        "id": "piHbuAegeoj6"
      },
      "source": [
        "**REMEMBER THAT WE NEED TO LABEL ENCODE THE TRAINING MASKS AS IT IS A MULTICLASS CLASSIFICATION AND EACH OF THE MASKS REPRESENTS ONE OF THE 6 CLASSES PRESENT**"
      ]
    },
    {
      "cell_type": "code",
      "metadata": {
        "colab": {
          "base_uri": "https://localhost:8080/"
        },
        "id": "cjj39-iDYftN",
        "outputId": "e264a1e9-76d9-4ee7-d7ae-83a75fdd123e"
      },
      "source": [
        "\n",
        "labelencoder = LabelEncoder()\n",
        "n, h, w = train_mask.shape\n",
        "train_mask_dataset_reshaped = train_mask.reshape(-1,1)\n",
        "train_mask_dataset_reshaped_encoded = labelencoder.fit_transform(train_mask_dataset_reshaped)\n",
        "train_mask_dataset_encoded_original_shape = train_mask_dataset_reshaped_encoded.reshape(n, h, w)"
      ],
      "execution_count": null,
      "outputs": [
        {
          "output_type": "stream",
          "text": [
            "/usr/local/lib/python3.7/dist-packages/sklearn/preprocessing/_label.py:251: DataConversionWarning: A column-vector y was passed when a 1d array was expected. Please change the shape of y to (n_samples, ), for example using ravel().\n",
            "  y = column_or_1d(y, warn=True)\n"
          ],
          "name": "stderr"
        }
      ]
    },
    {
      "cell_type": "code",
      "metadata": {
        "colab": {
          "base_uri": "https://localhost:8080/"
        },
        "id": "ykZqvwgT-elo",
        "outputId": "c17a000a-cbd0-4a76-ad85-65fbf5948c4d"
      },
      "source": [
        "\n",
        "labelencoder = LabelEncoder()\n",
        "n, h, w = val_mask.shape\n",
        "val_mask_dataset_reshaped = val_mask.reshape(-1,1)\n",
        "val_mask_dataset_reshaped_encoded = labelencoder.fit_transform(val_mask_dataset_reshaped)\n",
        "val_mask_dataset_encoded_original_shape = val_mask_dataset_reshaped_encoded.reshape(n, h, w)"
      ],
      "execution_count": null,
      "outputs": [
        {
          "output_type": "stream",
          "text": [
            "/usr/local/lib/python3.7/dist-packages/sklearn/preprocessing/_label.py:251: DataConversionWarning: A column-vector y was passed when a 1d array was expected. Please change the shape of y to (n_samples, ), for example using ravel().\n",
            "  y = column_or_1d(y, warn=True)\n"
          ],
          "name": "stderr"
        }
      ]
    },
    {
      "cell_type": "markdown",
      "metadata": {
        "id": "1_2Xrzd4e4_N"
      },
      "source": [
        "**Finding the number of Unique Masks**"
      ]
    },
    {
      "cell_type": "code",
      "metadata": {
        "colab": {
          "base_uri": "https://localhost:8080/"
        },
        "id": "x0UVYt5RY0R9",
        "outputId": "b354df25-20e4-4196-e5b2-15a629d4e19c"
      },
      "source": [
        "np.unique(train_mask_dataset_encoded_original_shape)"
      ],
      "execution_count": null,
      "outputs": [
        {
          "output_type": "execute_result",
          "data": {
            "text/plain": [
              "array([0, 1, 2, 3, 4, 5])"
            ]
          },
          "metadata": {
            "tags": []
          },
          "execution_count": 107
        }
      ]
    },
    {
      "cell_type": "code",
      "metadata": {
        "colab": {
          "base_uri": "https://localhost:8080/"
        },
        "id": "91GxKXQa-t_q",
        "outputId": "8b2650fd-2b98-4b00-afbe-4fe4a77cb8b8"
      },
      "source": [
        "np.unique(val_mask_dataset_encoded_original_shape)"
      ],
      "execution_count": null,
      "outputs": [
        {
          "output_type": "execute_result",
          "data": {
            "text/plain": [
              "array([0, 1, 2, 3, 4, 5])"
            ]
          },
          "metadata": {
            "tags": []
          },
          "execution_count": 108
        }
      ]
    },
    {
      "cell_type": "code",
      "metadata": {
        "id": "CpD3p6vHaazO"
      },
      "source": [
        "test_images= normalize(test_image, axis=1)\n",
        "test_images= np.expand_dims(test_images, axis=3)\n"
      ],
      "execution_count": null,
      "outputs": []
    },
    {
      "cell_type": "code",
      "metadata": {
        "id": "IvaHHEXAL1p2"
      },
      "source": [
        "train_images= normalize(train_image, axis=1)\n",
        "train_images= np.expand_dims(train_images, axis=3)\n"
      ],
      "execution_count": null,
      "outputs": []
    },
    {
      "cell_type": "code",
      "metadata": {
        "id": "zFT-9PPw-_lo"
      },
      "source": [
        "val_images= normalize(val_images, axis=1)\n",
        "val_images= np.expand_dims(val_images, axis=3)\n"
      ],
      "execution_count": null,
      "outputs": []
    },
    {
      "cell_type": "code",
      "metadata": {
        "colab": {
          "base_uri": "https://localhost:8080/"
        },
        "id": "Cscf-9xJgEwu",
        "outputId": "4fa87c3f-ca06-4828-86f3-f7be7553c475"
      },
      "source": [
        "train_images.shape,val_images.shape"
      ],
      "execution_count": null,
      "outputs": [
        {
          "output_type": "execute_result",
          "data": {
            "text/plain": [
              "((60, 128, 128, 1), (60, 128, 128, 1))"
            ]
          },
          "metadata": {
            "tags": []
          },
          "execution_count": 112
        }
      ]
    },
    {
      "cell_type": "code",
      "metadata": {
        "id": "q9yy1FLPalpa"
      },
      "source": [
        "train_masks_input = np.expand_dims(train_mask_dataset_encoded_original_shape, axis=3)\n",
        "val_masks_input = np.expand_dims(val_mask_dataset_encoded_original_shape, axis=3)\n"
      ],
      "execution_count": null,
      "outputs": []
    },
    {
      "cell_type": "code",
      "metadata": {
        "id": "pcyJeZEP_e1V"
      },
      "source": [
        "X_train,X_test,y_train,y_test= train_images,val_images,train_masks_input,val_masks_input"
      ],
      "execution_count": null,
      "outputs": []
    },
    {
      "cell_type": "code",
      "metadata": {
        "id": "zCjoWjemcCoQ"
      },
      "source": [
        "# from sklearn.model_selection import train_test_split\n",
        "# X1, X_test, y1, y_test = train_test_split(train_images, train_masks_input, test_size = 0.10, random_state = 0)"
      ],
      "execution_count": null,
      "outputs": []
    },
    {
      "cell_type": "code",
      "metadata": {
        "id": "TFNTWT-ncM-y"
      },
      "source": [
        "# X_train, X_do_not_use, y_train, y_do_not_use = train_test_split(X1, y1, test_size = 0.2, random_state = 0)"
      ],
      "execution_count": null,
      "outputs": []
    },
    {
      "cell_type": "code",
      "metadata": {
        "colab": {
          "base_uri": "https://localhost:8080/"
        },
        "id": "AH32CBkUcO8B",
        "outputId": "a054283a-e18e-446a-9c26-f0d0667a18b3"
      },
      "source": [
        "print(\"Class values in the dataset are ... \", np.unique(y_train)) "
      ],
      "execution_count": null,
      "outputs": [
        {
          "output_type": "stream",
          "text": [
            "Class values in the dataset are ...  [0 1 2 3 4 5]\n"
          ],
          "name": "stdout"
        }
      ]
    },
    {
      "cell_type": "code",
      "metadata": {
        "id": "_zFZh4mJcaNF"
      },
      "source": [
        "n_classes=6"
      ],
      "execution_count": null,
      "outputs": []
    },
    {
      "cell_type": "code",
      "metadata": {
        "id": "rJ3rMAm1cVd4"
      },
      "source": [
        "\n",
        "train_masks_cat = to_categorical(y_train, num_classes=n_classes)\n",
        "y_train_cat = train_masks_cat.reshape((y_train.shape[0], y_train.shape[1], y_train.shape[2], n_classes))\n"
      ],
      "execution_count": null,
      "outputs": []
    },
    {
      "cell_type": "code",
      "metadata": {
        "id": "LxF03vvCccGL"
      },
      "source": [
        "\n",
        "test_masks_cat = to_categorical(y_test, num_classes=n_classes)\n",
        "y_test_cat = test_masks_cat.reshape((y_test.shape[0], y_test.shape[1], y_test.shape[2], n_classes))\n"
      ],
      "execution_count": null,
      "outputs": []
    },
    {
      "cell_type": "markdown",
      "metadata": {
        "id": "M6oOamGGfAVg"
      },
      "source": [
        "# Model Creation and Setting Up Metrics"
      ]
    },
    {
      "cell_type": "code",
      "metadata": {
        "id": "cpjvREsBcpFR"
      },
      "source": [
        "IMG_HEIGHT = X_train.shape[1]\n",
        "IMG_WIDTH  = X_train.shape[2]\n",
        "IMG_CHANNELS = X_train.shape[3]"
      ],
      "execution_count": null,
      "outputs": []
    },
    {
      "cell_type": "code",
      "metadata": {
        "id": "05o2yzbIcyP7"
      },
      "source": [
        "def get_model():\n",
        "    return multi_unet_model(n_classes=n_classes, IMG_HEIGHT=IMG_HEIGHT, IMG_WIDTH=IMG_WIDTH, IMG_CHANNELS=IMG_CHANNELS)\n"
      ],
      "execution_count": null,
      "outputs": []
    },
    {
      "cell_type": "code",
      "metadata": {
        "id": "BoJhYLbjc06k"
      },
      "source": [
        "model = get_model()"
      ],
      "execution_count": null,
      "outputs": []
    },
    {
      "cell_type": "markdown",
      "metadata": {
        "id": "cURzaNx3fKoL"
      },
      "source": [
        "**NOTE THAT ACCURACY IS NOT A GOOD METRIC FOR SEGMENTATION PROBLEM, THE BEST ONES ARE THE IOU AND DICE COEFFICIENT. HERE DICE COEFFICIENT HAS BEEN USED**"
      ]
    },
    {
      "cell_type": "code",
      "metadata": {
        "id": "wsTtxP_Tap8a"
      },
      "source": [
        "from keras import backend as K\n",
        "def dice_coef(y_true, y_pred, smooth=1):\n",
        "  intersection = K.sum(y_true * y_pred, axis=[1,2,3])\n",
        "  union = K.sum(y_true, axis=[1,2,3]) + K.sum(y_pred, axis=[1,2,3])\n",
        "  dice = K.mean((2. * intersection + smooth)/(union + smooth), axis=0)\n",
        "  return dice"
      ],
      "execution_count": null,
      "outputs": []
    },
    {
      "cell_type": "code",
      "metadata": {
        "colab": {
          "base_uri": "https://localhost:8080/"
        },
        "id": "nKkuCSQzdP-e",
        "outputId": "2e7c3571-834e-4040-a3c7-1565fe387079"
      },
      "source": [
        "model.compile(optimizer='adam', loss='categorical_crossentropy', metrics=[dice_coef])\n",
        "model.summary()"
      ],
      "execution_count": null,
      "outputs": [
        {
          "output_type": "stream",
          "text": [
            "Model: \"model_2\"\n",
            "__________________________________________________________________________________________________\n",
            "Layer (type)                    Output Shape         Param #     Connected to                     \n",
            "==================================================================================================\n",
            "input_3 (InputLayer)            [(None, 128, 128, 1) 0                                            \n",
            "__________________________________________________________________________________________________\n",
            "conv2d_38 (Conv2D)              (None, 128, 128, 16) 160         input_3[0][0]                    \n",
            "__________________________________________________________________________________________________\n",
            "dropout_18 (Dropout)            (None, 128, 128, 16) 0           conv2d_38[0][0]                  \n",
            "__________________________________________________________________________________________________\n",
            "conv2d_39 (Conv2D)              (None, 128, 128, 16) 2320        dropout_18[0][0]                 \n",
            "__________________________________________________________________________________________________\n",
            "max_pooling2d_8 (MaxPooling2D)  (None, 64, 64, 16)   0           conv2d_39[0][0]                  \n",
            "__________________________________________________________________________________________________\n",
            "conv2d_40 (Conv2D)              (None, 64, 64, 32)   4640        max_pooling2d_8[0][0]            \n",
            "__________________________________________________________________________________________________\n",
            "dropout_19 (Dropout)            (None, 64, 64, 32)   0           conv2d_40[0][0]                  \n",
            "__________________________________________________________________________________________________\n",
            "conv2d_41 (Conv2D)              (None, 64, 64, 32)   9248        dropout_19[0][0]                 \n",
            "__________________________________________________________________________________________________\n",
            "max_pooling2d_9 (MaxPooling2D)  (None, 32, 32, 32)   0           conv2d_41[0][0]                  \n",
            "__________________________________________________________________________________________________\n",
            "conv2d_42 (Conv2D)              (None, 32, 32, 64)   18496       max_pooling2d_9[0][0]            \n",
            "__________________________________________________________________________________________________\n",
            "dropout_20 (Dropout)            (None, 32, 32, 64)   0           conv2d_42[0][0]                  \n",
            "__________________________________________________________________________________________________\n",
            "conv2d_43 (Conv2D)              (None, 32, 32, 64)   36928       dropout_20[0][0]                 \n",
            "__________________________________________________________________________________________________\n",
            "max_pooling2d_10 (MaxPooling2D) (None, 16, 16, 64)   0           conv2d_43[0][0]                  \n",
            "__________________________________________________________________________________________________\n",
            "conv2d_44 (Conv2D)              (None, 16, 16, 128)  73856       max_pooling2d_10[0][0]           \n",
            "__________________________________________________________________________________________________\n",
            "dropout_21 (Dropout)            (None, 16, 16, 128)  0           conv2d_44[0][0]                  \n",
            "__________________________________________________________________________________________________\n",
            "conv2d_45 (Conv2D)              (None, 16, 16, 128)  147584      dropout_21[0][0]                 \n",
            "__________________________________________________________________________________________________\n",
            "max_pooling2d_11 (MaxPooling2D) (None, 8, 8, 128)    0           conv2d_45[0][0]                  \n",
            "__________________________________________________________________________________________________\n",
            "conv2d_46 (Conv2D)              (None, 8, 8, 256)    295168      max_pooling2d_11[0][0]           \n",
            "__________________________________________________________________________________________________\n",
            "dropout_22 (Dropout)            (None, 8, 8, 256)    0           conv2d_46[0][0]                  \n",
            "__________________________________________________________________________________________________\n",
            "conv2d_47 (Conv2D)              (None, 8, 8, 256)    590080      dropout_22[0][0]                 \n",
            "__________________________________________________________________________________________________\n",
            "conv2d_transpose_8 (Conv2DTrans (None, 16, 16, 128)  131200      conv2d_47[0][0]                  \n",
            "__________________________________________________________________________________________________\n",
            "concatenate_8 (Concatenate)     (None, 16, 16, 256)  0           conv2d_transpose_8[0][0]         \n",
            "                                                                 conv2d_45[0][0]                  \n",
            "__________________________________________________________________________________________________\n",
            "conv2d_48 (Conv2D)              (None, 16, 16, 128)  295040      concatenate_8[0][0]              \n",
            "__________________________________________________________________________________________________\n",
            "dropout_23 (Dropout)            (None, 16, 16, 128)  0           conv2d_48[0][0]                  \n",
            "__________________________________________________________________________________________________\n",
            "conv2d_49 (Conv2D)              (None, 16, 16, 128)  147584      dropout_23[0][0]                 \n",
            "__________________________________________________________________________________________________\n",
            "conv2d_transpose_9 (Conv2DTrans (None, 32, 32, 64)   32832       conv2d_49[0][0]                  \n",
            "__________________________________________________________________________________________________\n",
            "concatenate_9 (Concatenate)     (None, 32, 32, 128)  0           conv2d_transpose_9[0][0]         \n",
            "                                                                 conv2d_43[0][0]                  \n",
            "__________________________________________________________________________________________________\n",
            "conv2d_50 (Conv2D)              (None, 32, 32, 64)   73792       concatenate_9[0][0]              \n",
            "__________________________________________________________________________________________________\n",
            "dropout_24 (Dropout)            (None, 32, 32, 64)   0           conv2d_50[0][0]                  \n",
            "__________________________________________________________________________________________________\n",
            "conv2d_51 (Conv2D)              (None, 32, 32, 64)   36928       dropout_24[0][0]                 \n",
            "__________________________________________________________________________________________________\n",
            "conv2d_transpose_10 (Conv2DTran (None, 64, 64, 32)   8224        conv2d_51[0][0]                  \n",
            "__________________________________________________________________________________________________\n",
            "concatenate_10 (Concatenate)    (None, 64, 64, 64)   0           conv2d_transpose_10[0][0]        \n",
            "                                                                 conv2d_41[0][0]                  \n",
            "__________________________________________________________________________________________________\n",
            "conv2d_52 (Conv2D)              (None, 64, 64, 32)   18464       concatenate_10[0][0]             \n",
            "__________________________________________________________________________________________________\n",
            "dropout_25 (Dropout)            (None, 64, 64, 32)   0           conv2d_52[0][0]                  \n",
            "__________________________________________________________________________________________________\n",
            "conv2d_53 (Conv2D)              (None, 64, 64, 32)   9248        dropout_25[0][0]                 \n",
            "__________________________________________________________________________________________________\n",
            "conv2d_transpose_11 (Conv2DTran (None, 128, 128, 16) 2064        conv2d_53[0][0]                  \n",
            "__________________________________________________________________________________________________\n",
            "concatenate_11 (Concatenate)    (None, 128, 128, 32) 0           conv2d_transpose_11[0][0]        \n",
            "                                                                 conv2d_39[0][0]                  \n",
            "__________________________________________________________________________________________________\n",
            "conv2d_54 (Conv2D)              (None, 128, 128, 16) 4624        concatenate_11[0][0]             \n",
            "__________________________________________________________________________________________________\n",
            "dropout_26 (Dropout)            (None, 128, 128, 16) 0           conv2d_54[0][0]                  \n",
            "__________________________________________________________________________________________________\n",
            "conv2d_55 (Conv2D)              (None, 128, 128, 16) 2320        dropout_26[0][0]                 \n",
            "__________________________________________________________________________________________________\n",
            "conv2d_56 (Conv2D)              (None, 128, 128, 6)  102         conv2d_55[0][0]                  \n",
            "==================================================================================================\n",
            "Total params: 1,940,902\n",
            "Trainable params: 1,940,902\n",
            "Non-trainable params: 0\n",
            "__________________________________________________________________________________________________\n"
          ],
          "name": "stdout"
        }
      ]
    },
    {
      "cell_type": "markdown",
      "metadata": {
        "id": "xNKRnuYgfie5"
      },
      "source": [
        "# Model Training"
      ]
    },
    {
      "cell_type": "code",
      "metadata": {
        "colab": {
          "base_uri": "https://localhost:8080/"
        },
        "id": "i9KcGqNMdScy",
        "outputId": "7849fb75-1528-40c2-ab67-06d2f85a20f9"
      },
      "source": [
        "history = model.fit(X_train, y_train_cat, \n",
        "                    batch_size = 16, \n",
        "                    verbose=1, \n",
        "                    epochs=200, \n",
        "                    validation_data=(X_test, y_test_cat), \n",
        "                    \n",
        "                    shuffle=True\n",
        "                    \n",
        "                    )"
      ],
      "execution_count": null,
      "outputs": [
        {
          "output_type": "stream",
          "text": [
            "Epoch 1/200\n",
            "4/4 [==============================] - 4s 415ms/step - loss: 1.8588 - dice_coef: 0.2183 - val_loss: 1.4717 - val_dice_coef: 0.2419\n",
            "Epoch 2/200\n",
            "4/4 [==============================] - 0s 63ms/step - loss: 1.4790 - dice_coef: 0.2577 - val_loss: 1.6427 - val_dice_coef: 0.1953\n",
            "Epoch 3/200\n",
            "4/4 [==============================] - 0s 60ms/step - loss: 1.5981 - dice_coef: 0.2060 - val_loss: 1.5472 - val_dice_coef: 0.2173\n",
            "Epoch 4/200\n",
            "4/4 [==============================] - 0s 61ms/step - loss: 1.4689 - dice_coef: 0.2410 - val_loss: 1.2946 - val_dice_coef: 0.2966\n",
            "Epoch 5/200\n",
            "4/4 [==============================] - 0s 63ms/step - loss: 1.2144 - dice_coef: 0.3816 - val_loss: 1.1296 - val_dice_coef: 0.3831\n",
            "Epoch 6/200\n",
            "4/4 [==============================] - 0s 60ms/step - loss: 1.1306 - dice_coef: 0.4123 - val_loss: 1.1253 - val_dice_coef: 0.3738\n",
            "Epoch 7/200\n",
            "4/4 [==============================] - 0s 62ms/step - loss: 1.1007 - dice_coef: 0.4126 - val_loss: 1.0385 - val_dice_coef: 0.4253\n",
            "Epoch 8/200\n",
            "4/4 [==============================] - 0s 60ms/step - loss: 1.0497 - dice_coef: 0.4631 - val_loss: 1.0019 - val_dice_coef: 0.4363\n",
            "Epoch 9/200\n",
            "4/4 [==============================] - 0s 60ms/step - loss: 1.0014 - dice_coef: 0.4628 - val_loss: 0.9736 - val_dice_coef: 0.4453\n",
            "Epoch 10/200\n",
            "4/4 [==============================] - 0s 61ms/step - loss: 0.9827 - dice_coef: 0.4715 - val_loss: 0.9395 - val_dice_coef: 0.4722\n",
            "Epoch 11/200\n",
            "4/4 [==============================] - 0s 61ms/step - loss: 0.9440 - dice_coef: 0.4920 - val_loss: 0.9039 - val_dice_coef: 0.4903\n",
            "Epoch 12/200\n",
            "4/4 [==============================] - 0s 60ms/step - loss: 0.8965 - dice_coef: 0.5223 - val_loss: 0.8751 - val_dice_coef: 0.4991\n",
            "Epoch 13/200\n",
            "4/4 [==============================] - 0s 60ms/step - loss: 0.8695 - dice_coef: 0.5251 - val_loss: 0.7698 - val_dice_coef: 0.5881\n",
            "Epoch 14/200\n",
            "4/4 [==============================] - 0s 60ms/step - loss: 0.7808 - dice_coef: 0.6062 - val_loss: 0.7419 - val_dice_coef: 0.5899\n",
            "Epoch 15/200\n",
            "4/4 [==============================] - 0s 59ms/step - loss: 0.7418 - dice_coef: 0.6099 - val_loss: 0.7284 - val_dice_coef: 0.5922\n",
            "Epoch 16/200\n",
            "4/4 [==============================] - 0s 64ms/step - loss: 0.7111 - dice_coef: 0.6243 - val_loss: 0.6785 - val_dice_coef: 0.6299\n",
            "Epoch 17/200\n",
            "4/4 [==============================] - 0s 61ms/step - loss: 0.6848 - dice_coef: 0.6354 - val_loss: 0.6356 - val_dice_coef: 0.6449\n",
            "Epoch 18/200\n",
            "4/4 [==============================] - 0s 60ms/step - loss: 0.6313 - dice_coef: 0.6661 - val_loss: 0.6095 - val_dice_coef: 0.6541\n",
            "Epoch 19/200\n",
            "4/4 [==============================] - 0s 60ms/step - loss: 0.6510 - dice_coef: 0.6605 - val_loss: 0.7015 - val_dice_coef: 0.5865\n",
            "Epoch 20/200\n",
            "4/4 [==============================] - 0s 60ms/step - loss: 0.7135 - dice_coef: 0.6100 - val_loss: 0.5893 - val_dice_coef: 0.6700\n",
            "Epoch 21/200\n",
            "4/4 [==============================] - 0s 60ms/step - loss: 0.6329 - dice_coef: 0.6787 - val_loss: 0.6398 - val_dice_coef: 0.6240\n",
            "Epoch 22/200\n",
            "4/4 [==============================] - 0s 60ms/step - loss: 0.6191 - dice_coef: 0.6511 - val_loss: 0.5576 - val_dice_coef: 0.6741\n",
            "Epoch 23/200\n",
            "4/4 [==============================] - 0s 59ms/step - loss: 0.5481 - dice_coef: 0.7113 - val_loss: 0.4906 - val_dice_coef: 0.7648\n",
            "Epoch 24/200\n",
            "4/4 [==============================] - 0s 60ms/step - loss: 0.5058 - dice_coef: 0.7750 - val_loss: 0.4872 - val_dice_coef: 0.7261\n",
            "Epoch 25/200\n",
            "4/4 [==============================] - 0s 60ms/step - loss: 0.4835 - dice_coef: 0.7425 - val_loss: 0.4178 - val_dice_coef: 0.7802\n",
            "Epoch 26/200\n",
            "4/4 [==============================] - 0s 60ms/step - loss: 0.4367 - dice_coef: 0.8001 - val_loss: 0.3989 - val_dice_coef: 0.7964\n",
            "Epoch 27/200\n",
            "4/4 [==============================] - 0s 60ms/step - loss: 0.4168 - dice_coef: 0.7908 - val_loss: 0.4061 - val_dice_coef: 0.7838\n",
            "Epoch 28/200\n",
            "4/4 [==============================] - 0s 58ms/step - loss: 0.3899 - dice_coef: 0.8054 - val_loss: 0.3665 - val_dice_coef: 0.8318\n",
            "Epoch 29/200\n",
            "4/4 [==============================] - 0s 61ms/step - loss: 0.3840 - dice_coef: 0.8283 - val_loss: 0.3510 - val_dice_coef: 0.8164\n",
            "Epoch 30/200\n",
            "4/4 [==============================] - 0s 62ms/step - loss: 0.3606 - dice_coef: 0.8187 - val_loss: 0.4213 - val_dice_coef: 0.8278\n",
            "Epoch 31/200\n",
            "4/4 [==============================] - 0s 61ms/step - loss: 0.3420 - dice_coef: 0.8437 - val_loss: 0.3378 - val_dice_coef: 0.8510\n",
            "Epoch 32/200\n",
            "4/4 [==============================] - 0s 59ms/step - loss: 0.3233 - dice_coef: 0.8476 - val_loss: 0.3126 - val_dice_coef: 0.8610\n",
            "Epoch 33/200\n",
            "4/4 [==============================] - 0s 62ms/step - loss: 0.2932 - dice_coef: 0.8607 - val_loss: 0.2748 - val_dice_coef: 0.8709\n",
            "Epoch 34/200\n",
            "4/4 [==============================] - 0s 60ms/step - loss: 0.2861 - dice_coef: 0.8595 - val_loss: 0.2645 - val_dice_coef: 0.8842\n",
            "Epoch 35/200\n",
            "4/4 [==============================] - 0s 60ms/step - loss: 0.2912 - dice_coef: 0.8688 - val_loss: 0.2517 - val_dice_coef: 0.8830\n",
            "Epoch 36/200\n",
            "4/4 [==============================] - 0s 59ms/step - loss: 0.2656 - dice_coef: 0.8741 - val_loss: 0.2635 - val_dice_coef: 0.8769\n",
            "Epoch 37/200\n",
            "4/4 [==============================] - 0s 60ms/step - loss: 0.2681 - dice_coef: 0.8683 - val_loss: 0.2496 - val_dice_coef: 0.8869\n",
            "Epoch 38/200\n",
            "4/4 [==============================] - 0s 61ms/step - loss: 0.2399 - dice_coef: 0.8796 - val_loss: 0.2432 - val_dice_coef: 0.8955\n",
            "Epoch 39/200\n",
            "4/4 [==============================] - 0s 60ms/step - loss: 0.2354 - dice_coef: 0.8880 - val_loss: 0.2336 - val_dice_coef: 0.8923\n",
            "Epoch 40/200\n",
            "4/4 [==============================] - 0s 60ms/step - loss: 0.2291 - dice_coef: 0.8846 - val_loss: 0.2144 - val_dice_coef: 0.9041\n",
            "Epoch 41/200\n",
            "4/4 [==============================] - 0s 60ms/step - loss: 0.2157 - dice_coef: 0.8968 - val_loss: 0.2084 - val_dice_coef: 0.9078\n",
            "Epoch 42/200\n",
            "4/4 [==============================] - 0s 61ms/step - loss: 0.2107 - dice_coef: 0.8997 - val_loss: 0.2100 - val_dice_coef: 0.9091\n",
            "Epoch 43/200\n",
            "4/4 [==============================] - 0s 60ms/step - loss: 0.2069 - dice_coef: 0.9031 - val_loss: 0.2017 - val_dice_coef: 0.9088\n",
            "Epoch 44/200\n",
            "4/4 [==============================] - 0s 60ms/step - loss: 0.2002 - dice_coef: 0.9066 - val_loss: 0.1887 - val_dice_coef: 0.9124\n",
            "Epoch 45/200\n",
            "4/4 [==============================] - 0s 62ms/step - loss: 0.1948 - dice_coef: 0.9033 - val_loss: 0.2070 - val_dice_coef: 0.9111\n",
            "Epoch 46/200\n",
            "4/4 [==============================] - 0s 63ms/step - loss: 0.1967 - dice_coef: 0.9093 - val_loss: 0.1859 - val_dice_coef: 0.9136\n",
            "Epoch 47/200\n",
            "4/4 [==============================] - 0s 63ms/step - loss: 0.1885 - dice_coef: 0.9085 - val_loss: 0.1848 - val_dice_coef: 0.9156\n",
            "Epoch 48/200\n",
            "4/4 [==============================] - 0s 60ms/step - loss: 0.1910 - dice_coef: 0.9094 - val_loss: 0.1863 - val_dice_coef: 0.9111\n",
            "Epoch 49/200\n",
            "4/4 [==============================] - 0s 61ms/step - loss: 0.1897 - dice_coef: 0.9050 - val_loss: 0.1808 - val_dice_coef: 0.9205\n",
            "Epoch 50/200\n",
            "4/4 [==============================] - 0s 60ms/step - loss: 0.1788 - dice_coef: 0.9191 - val_loss: 0.1692 - val_dice_coef: 0.9148\n",
            "Epoch 51/200\n",
            "4/4 [==============================] - 0s 60ms/step - loss: 0.1809 - dice_coef: 0.9048 - val_loss: 0.1761 - val_dice_coef: 0.9244\n",
            "Epoch 52/200\n",
            "4/4 [==============================] - 0s 61ms/step - loss: 0.1855 - dice_coef: 0.9181 - val_loss: 0.1795 - val_dice_coef: 0.9140\n",
            "Epoch 53/200\n",
            "4/4 [==============================] - 0s 60ms/step - loss: 0.1787 - dice_coef: 0.9096 - val_loss: 0.1656 - val_dice_coef: 0.9245\n",
            "Epoch 54/200\n",
            "4/4 [==============================] - 0s 60ms/step - loss: 0.1630 - dice_coef: 0.9230 - val_loss: 0.1643 - val_dice_coef: 0.9195\n",
            "Epoch 55/200\n",
            "4/4 [==============================] - 0s 60ms/step - loss: 0.1635 - dice_coef: 0.9152 - val_loss: 0.1596 - val_dice_coef: 0.9251\n",
            "Epoch 56/200\n",
            "4/4 [==============================] - 0s 61ms/step - loss: 0.1652 - dice_coef: 0.9206 - val_loss: 0.1540 - val_dice_coef: 0.9263\n",
            "Epoch 57/200\n",
            "4/4 [==============================] - 0s 60ms/step - loss: 0.1599 - dice_coef: 0.9218 - val_loss: 0.1648 - val_dice_coef: 0.9226\n",
            "Epoch 58/200\n",
            "4/4 [==============================] - 0s 59ms/step - loss: 0.1614 - dice_coef: 0.9204 - val_loss: 0.1478 - val_dice_coef: 0.9293\n",
            "Epoch 59/200\n",
            "4/4 [==============================] - 0s 61ms/step - loss: 0.1557 - dice_coef: 0.9245 - val_loss: 0.1474 - val_dice_coef: 0.9288\n",
            "Epoch 60/200\n",
            "4/4 [==============================] - 0s 61ms/step - loss: 0.1453 - dice_coef: 0.9258 - val_loss: 0.1437 - val_dice_coef: 0.9312\n",
            "Epoch 61/200\n",
            "4/4 [==============================] - 0s 62ms/step - loss: 0.1464 - dice_coef: 0.9286 - val_loss: 0.1397 - val_dice_coef: 0.9312\n",
            "Epoch 62/200\n",
            "4/4 [==============================] - 0s 60ms/step - loss: 0.1418 - dice_coef: 0.9272 - val_loss: 0.1422 - val_dice_coef: 0.9310\n",
            "Epoch 63/200\n",
            "4/4 [==============================] - 0s 61ms/step - loss: 0.1485 - dice_coef: 0.9277 - val_loss: 0.1439 - val_dice_coef: 0.9304\n",
            "Epoch 64/200\n",
            "4/4 [==============================] - 0s 61ms/step - loss: 0.1437 - dice_coef: 0.9257 - val_loss: 0.1382 - val_dice_coef: 0.9330\n",
            "Epoch 65/200\n",
            "4/4 [==============================] - 0s 61ms/step - loss: 0.1415 - dice_coef: 0.9294 - val_loss: 0.1391 - val_dice_coef: 0.9290\n",
            "Epoch 66/200\n",
            "4/4 [==============================] - 0s 59ms/step - loss: 0.1354 - dice_coef: 0.9281 - val_loss: 0.1367 - val_dice_coef: 0.9358\n",
            "Epoch 67/200\n",
            "4/4 [==============================] - 0s 62ms/step - loss: 0.1378 - dice_coef: 0.9320 - val_loss: 0.1329 - val_dice_coef: 0.9323\n",
            "Epoch 68/200\n",
            "4/4 [==============================] - 0s 62ms/step - loss: 0.1316 - dice_coef: 0.9318 - val_loss: 0.1360 - val_dice_coef: 0.9333\n",
            "Epoch 69/200\n",
            "4/4 [==============================] - 0s 61ms/step - loss: 0.1353 - dice_coef: 0.9301 - val_loss: 0.1331 - val_dice_coef: 0.9343\n",
            "Epoch 70/200\n",
            "4/4 [==============================] - 0s 60ms/step - loss: 0.1343 - dice_coef: 0.9323 - val_loss: 0.1294 - val_dice_coef: 0.9321\n",
            "Epoch 71/200\n",
            "4/4 [==============================] - 0s 60ms/step - loss: 0.1289 - dice_coef: 0.9309 - val_loss: 0.1352 - val_dice_coef: 0.9354\n",
            "Epoch 72/200\n",
            "4/4 [==============================] - 0s 61ms/step - loss: 0.1309 - dice_coef: 0.9333 - val_loss: 0.1270 - val_dice_coef: 0.9372\n",
            "Epoch 73/200\n",
            "4/4 [==============================] - 0s 60ms/step - loss: 0.1295 - dice_coef: 0.9357 - val_loss: 0.1233 - val_dice_coef: 0.9347\n",
            "Epoch 74/200\n",
            "4/4 [==============================] - 0s 62ms/step - loss: 0.1320 - dice_coef: 0.9309 - val_loss: 0.1296 - val_dice_coef: 0.9380\n",
            "Epoch 75/200\n",
            "4/4 [==============================] - 0s 61ms/step - loss: 0.1274 - dice_coef: 0.9346 - val_loss: 0.1261 - val_dice_coef: 0.9360\n",
            "Epoch 76/200\n",
            "4/4 [==============================] - 0s 61ms/step - loss: 0.1218 - dice_coef: 0.9370 - val_loss: 0.1168 - val_dice_coef: 0.9394\n",
            "Epoch 77/200\n",
            "4/4 [==============================] - 0s 60ms/step - loss: 0.1296 - dice_coef: 0.9328 - val_loss: 0.1210 - val_dice_coef: 0.9394\n",
            "Epoch 78/200\n",
            "4/4 [==============================] - 0s 65ms/step - loss: 0.1280 - dice_coef: 0.9358 - val_loss: 0.1252 - val_dice_coef: 0.9364\n",
            "Epoch 79/200\n",
            "4/4 [==============================] - 0s 63ms/step - loss: 0.1248 - dice_coef: 0.9347 - val_loss: 0.1333 - val_dice_coef: 0.9379\n",
            "Epoch 80/200\n",
            "4/4 [==============================] - 0s 62ms/step - loss: 0.1216 - dice_coef: 0.9386 - val_loss: 0.1158 - val_dice_coef: 0.9383\n",
            "Epoch 81/200\n",
            "4/4 [==============================] - 0s 63ms/step - loss: 0.1202 - dice_coef: 0.9365 - val_loss: 0.1194 - val_dice_coef: 0.9394\n",
            "Epoch 82/200\n",
            "4/4 [==============================] - 0s 61ms/step - loss: 0.1207 - dice_coef: 0.9365 - val_loss: 0.1170 - val_dice_coef: 0.9395\n",
            "Epoch 83/200\n",
            "4/4 [==============================] - 0s 66ms/step - loss: 0.1228 - dice_coef: 0.9365 - val_loss: 0.1141 - val_dice_coef: 0.9391\n",
            "Epoch 84/200\n",
            "4/4 [==============================] - 0s 62ms/step - loss: 0.1185 - dice_coef: 0.9381 - val_loss: 0.1118 - val_dice_coef: 0.9418\n",
            "Epoch 85/200\n",
            "4/4 [==============================] - 0s 61ms/step - loss: 0.1204 - dice_coef: 0.9373 - val_loss: 0.1164 - val_dice_coef: 0.9433\n",
            "Epoch 86/200\n",
            "4/4 [==============================] - 0s 60ms/step - loss: 0.1171 - dice_coef: 0.9405 - val_loss: 0.1127 - val_dice_coef: 0.9393\n",
            "Epoch 87/200\n",
            "4/4 [==============================] - 0s 61ms/step - loss: 0.1181 - dice_coef: 0.9380 - val_loss: 0.1183 - val_dice_coef: 0.9427\n",
            "Epoch 88/200\n",
            "4/4 [==============================] - 0s 62ms/step - loss: 0.1155 - dice_coef: 0.9407 - val_loss: 0.1143 - val_dice_coef: 0.9424\n",
            "Epoch 89/200\n",
            "4/4 [==============================] - 0s 63ms/step - loss: 0.1148 - dice_coef: 0.9402 - val_loss: 0.1053 - val_dice_coef: 0.9419\n",
            "Epoch 90/200\n",
            "4/4 [==============================] - 0s 60ms/step - loss: 0.1118 - dice_coef: 0.9402 - val_loss: 0.1057 - val_dice_coef: 0.9444\n",
            "Epoch 91/200\n",
            "4/4 [==============================] - 0s 60ms/step - loss: 0.1103 - dice_coef: 0.9415 - val_loss: 0.1168 - val_dice_coef: 0.9448\n",
            "Epoch 92/200\n",
            "4/4 [==============================] - 0s 65ms/step - loss: 0.1097 - dice_coef: 0.9441 - val_loss: 0.1071 - val_dice_coef: 0.9435\n",
            "Epoch 93/200\n",
            "4/4 [==============================] - 0s 62ms/step - loss: 0.1122 - dice_coef: 0.9421 - val_loss: 0.1015 - val_dice_coef: 0.9431\n",
            "Epoch 94/200\n",
            "4/4 [==============================] - 0s 61ms/step - loss: 0.1111 - dice_coef: 0.9394 - val_loss: 0.1057 - val_dice_coef: 0.9456\n",
            "Epoch 95/200\n",
            "4/4 [==============================] - 0s 64ms/step - loss: 0.1077 - dice_coef: 0.9442 - val_loss: 0.1001 - val_dice_coef: 0.9454\n",
            "Epoch 96/200\n",
            "4/4 [==============================] - 0s 62ms/step - loss: 0.1068 - dice_coef: 0.9435 - val_loss: 0.1032 - val_dice_coef: 0.9471\n",
            "Epoch 97/200\n",
            "4/4 [==============================] - 0s 61ms/step - loss: 0.1053 - dice_coef: 0.9450 - val_loss: 0.0998 - val_dice_coef: 0.9468\n",
            "Epoch 98/200\n",
            "4/4 [==============================] - 0s 62ms/step - loss: 0.1005 - dice_coef: 0.9465 - val_loss: 0.0981 - val_dice_coef: 0.9490\n",
            "Epoch 99/200\n",
            "4/4 [==============================] - 0s 62ms/step - loss: 0.1041 - dice_coef: 0.9463 - val_loss: 0.0974 - val_dice_coef: 0.9476\n",
            "Epoch 100/200\n",
            "4/4 [==============================] - 0s 63ms/step - loss: 0.1031 - dice_coef: 0.9454 - val_loss: 0.1024 - val_dice_coef: 0.9447\n",
            "Epoch 101/200\n",
            "4/4 [==============================] - 0s 63ms/step - loss: 0.1007 - dice_coef: 0.9458 - val_loss: 0.1018 - val_dice_coef: 0.9475\n",
            "Epoch 102/200\n",
            "4/4 [==============================] - 0s 63ms/step - loss: 0.1040 - dice_coef: 0.9460 - val_loss: 0.0969 - val_dice_coef: 0.9477\n",
            "Epoch 103/200\n",
            "4/4 [==============================] - 0s 61ms/step - loss: 0.0993 - dice_coef: 0.9463 - val_loss: 0.0940 - val_dice_coef: 0.9489\n",
            "Epoch 104/200\n",
            "4/4 [==============================] - 0s 60ms/step - loss: 0.0993 - dice_coef: 0.9476 - val_loss: 0.0945 - val_dice_coef: 0.9486\n",
            "Epoch 105/200\n",
            "4/4 [==============================] - 0s 60ms/step - loss: 0.0980 - dice_coef: 0.9476 - val_loss: 0.0924 - val_dice_coef: 0.9483\n",
            "Epoch 106/200\n",
            "4/4 [==============================] - 0s 61ms/step - loss: 0.0952 - dice_coef: 0.9484 - val_loss: 0.0914 - val_dice_coef: 0.9508\n",
            "Epoch 107/200\n",
            "4/4 [==============================] - 0s 62ms/step - loss: 0.0981 - dice_coef: 0.9481 - val_loss: 0.0926 - val_dice_coef: 0.9496\n",
            "Epoch 108/200\n",
            "4/4 [==============================] - 0s 60ms/step - loss: 0.0957 - dice_coef: 0.9489 - val_loss: 0.0892 - val_dice_coef: 0.9503\n",
            "Epoch 109/200\n",
            "4/4 [==============================] - 0s 63ms/step - loss: 0.0983 - dice_coef: 0.9480 - val_loss: 0.1031 - val_dice_coef: 0.9455\n",
            "Epoch 110/200\n",
            "4/4 [==============================] - 0s 61ms/step - loss: 0.1050 - dice_coef: 0.9452 - val_loss: 0.0984 - val_dice_coef: 0.9491\n",
            "Epoch 111/200\n",
            "4/4 [==============================] - 0s 60ms/step - loss: 0.0984 - dice_coef: 0.9468 - val_loss: 0.0901 - val_dice_coef: 0.9511\n",
            "Epoch 112/200\n",
            "4/4 [==============================] - 0s 63ms/step - loss: 0.0949 - dice_coef: 0.9504 - val_loss: 0.0859 - val_dice_coef: 0.9518\n",
            "Epoch 113/200\n",
            "4/4 [==============================] - 0s 60ms/step - loss: 0.0917 - dice_coef: 0.9499 - val_loss: 0.0945 - val_dice_coef: 0.9499\n",
            "Epoch 114/200\n",
            "4/4 [==============================] - 0s 60ms/step - loss: 0.0944 - dice_coef: 0.9494 - val_loss: 0.0889 - val_dice_coef: 0.9523\n",
            "Epoch 115/200\n",
            "4/4 [==============================] - 0s 61ms/step - loss: 0.0955 - dice_coef: 0.9500 - val_loss: 0.0876 - val_dice_coef: 0.9521\n",
            "Epoch 116/200\n",
            "4/4 [==============================] - 0s 60ms/step - loss: 0.0909 - dice_coef: 0.9514 - val_loss: 0.0811 - val_dice_coef: 0.9535\n",
            "Epoch 117/200\n",
            "4/4 [==============================] - 0s 61ms/step - loss: 0.0943 - dice_coef: 0.9505 - val_loss: 0.0843 - val_dice_coef: 0.9515\n",
            "Epoch 118/200\n",
            "4/4 [==============================] - 0s 66ms/step - loss: 0.0904 - dice_coef: 0.9493 - val_loss: 0.0878 - val_dice_coef: 0.9551\n",
            "Epoch 119/200\n",
            "4/4 [==============================] - 0s 64ms/step - loss: 0.0894 - dice_coef: 0.9533 - val_loss: 0.0846 - val_dice_coef: 0.9523\n",
            "Epoch 120/200\n",
            "4/4 [==============================] - 0s 61ms/step - loss: 0.0900 - dice_coef: 0.9520 - val_loss: 0.0821 - val_dice_coef: 0.9527\n",
            "Epoch 121/200\n",
            "4/4 [==============================] - 0s 63ms/step - loss: 0.0894 - dice_coef: 0.9505 - val_loss: 0.0926 - val_dice_coef: 0.9528\n",
            "Epoch 122/200\n",
            "4/4 [==============================] - 0s 62ms/step - loss: 0.0904 - dice_coef: 0.9521 - val_loss: 0.0822 - val_dice_coef: 0.9518\n",
            "Epoch 123/200\n",
            "4/4 [==============================] - 0s 60ms/step - loss: 0.0893 - dice_coef: 0.9507 - val_loss: 0.0815 - val_dice_coef: 0.9560\n",
            "Epoch 124/200\n",
            "4/4 [==============================] - 0s 60ms/step - loss: 0.0872 - dice_coef: 0.9536 - val_loss: 0.0808 - val_dice_coef: 0.9553\n",
            "Epoch 125/200\n",
            "4/4 [==============================] - 0s 62ms/step - loss: 0.0880 - dice_coef: 0.9528 - val_loss: 0.0776 - val_dice_coef: 0.9553\n",
            "Epoch 126/200\n",
            "4/4 [==============================] - 0s 60ms/step - loss: 0.0835 - dice_coef: 0.9544 - val_loss: 0.0767 - val_dice_coef: 0.9562\n",
            "Epoch 127/200\n",
            "4/4 [==============================] - 0s 61ms/step - loss: 0.0842 - dice_coef: 0.9534 - val_loss: 0.0772 - val_dice_coef: 0.9566\n",
            "Epoch 128/200\n",
            "4/4 [==============================] - 0s 60ms/step - loss: 0.0830 - dice_coef: 0.9554 - val_loss: 0.0746 - val_dice_coef: 0.9566\n",
            "Epoch 129/200\n",
            "4/4 [==============================] - 0s 61ms/step - loss: 0.0832 - dice_coef: 0.9548 - val_loss: 0.0789 - val_dice_coef: 0.9537\n",
            "Epoch 130/200\n",
            "4/4 [==============================] - 0s 63ms/step - loss: 0.0850 - dice_coef: 0.9517 - val_loss: 0.0785 - val_dice_coef: 0.9564\n",
            "Epoch 131/200\n",
            "4/4 [==============================] - 0s 63ms/step - loss: 0.0839 - dice_coef: 0.9554 - val_loss: 0.0745 - val_dice_coef: 0.9578\n",
            "Epoch 132/200\n",
            "4/4 [==============================] - 0s 62ms/step - loss: 0.0813 - dice_coef: 0.9552 - val_loss: 0.0777 - val_dice_coef: 0.9540\n",
            "Epoch 133/200\n",
            "4/4 [==============================] - 0s 60ms/step - loss: 0.0801 - dice_coef: 0.9539 - val_loss: 0.0744 - val_dice_coef: 0.9578\n",
            "Epoch 134/200\n",
            "4/4 [==============================] - 0s 61ms/step - loss: 0.0781 - dice_coef: 0.9571 - val_loss: 0.0760 - val_dice_coef: 0.9576\n",
            "Epoch 135/200\n",
            "4/4 [==============================] - 0s 62ms/step - loss: 0.0788 - dice_coef: 0.9571 - val_loss: 0.0773 - val_dice_coef: 0.9543\n",
            "Epoch 136/200\n",
            "4/4 [==============================] - 0s 62ms/step - loss: 0.0827 - dice_coef: 0.9543 - val_loss: 0.0761 - val_dice_coef: 0.9566\n",
            "Epoch 137/200\n",
            "4/4 [==============================] - 0s 60ms/step - loss: 0.0801 - dice_coef: 0.9560 - val_loss: 0.0703 - val_dice_coef: 0.9587\n",
            "Epoch 138/200\n",
            "4/4 [==============================] - 0s 61ms/step - loss: 0.0798 - dice_coef: 0.9563 - val_loss: 0.0687 - val_dice_coef: 0.9583\n",
            "Epoch 139/200\n",
            "4/4 [==============================] - 0s 61ms/step - loss: 0.0791 - dice_coef: 0.9560 - val_loss: 0.0683 - val_dice_coef: 0.9582\n",
            "Epoch 140/200\n",
            "4/4 [==============================] - 0s 61ms/step - loss: 0.0777 - dice_coef: 0.9560 - val_loss: 0.0705 - val_dice_coef: 0.9572\n",
            "Epoch 141/200\n",
            "4/4 [==============================] - 0s 61ms/step - loss: 0.0768 - dice_coef: 0.9557 - val_loss: 0.0721 - val_dice_coef: 0.9583\n",
            "Epoch 142/200\n",
            "4/4 [==============================] - 0s 63ms/step - loss: 0.0735 - dice_coef: 0.9588 - val_loss: 0.0704 - val_dice_coef: 0.9588\n",
            "Epoch 143/200\n",
            "4/4 [==============================] - 0s 61ms/step - loss: 0.0740 - dice_coef: 0.9581 - val_loss: 0.0701 - val_dice_coef: 0.9581\n",
            "Epoch 144/200\n",
            "4/4 [==============================] - 0s 63ms/step - loss: 0.0761 - dice_coef: 0.9569 - val_loss: 0.0667 - val_dice_coef: 0.9601\n",
            "Epoch 145/200\n",
            "4/4 [==============================] - 0s 60ms/step - loss: 0.0742 - dice_coef: 0.9581 - val_loss: 0.0672 - val_dice_coef: 0.9605\n",
            "Epoch 146/200\n",
            "4/4 [==============================] - 0s 60ms/step - loss: 0.0772 - dice_coef: 0.9574 - val_loss: 0.0663 - val_dice_coef: 0.9605\n",
            "Epoch 147/200\n",
            "4/4 [==============================] - 0s 61ms/step - loss: 0.0724 - dice_coef: 0.9597 - val_loss: 0.0657 - val_dice_coef: 0.9598\n",
            "Epoch 148/200\n",
            "4/4 [==============================] - 0s 63ms/step - loss: 0.0717 - dice_coef: 0.9589 - val_loss: 0.0630 - val_dice_coef: 0.9616\n",
            "Epoch 149/200\n",
            "4/4 [==============================] - 0s 63ms/step - loss: 0.0707 - dice_coef: 0.9598 - val_loss: 0.0682 - val_dice_coef: 0.9603\n",
            "Epoch 150/200\n",
            "4/4 [==============================] - 0s 62ms/step - loss: 0.0732 - dice_coef: 0.9588 - val_loss: 0.0647 - val_dice_coef: 0.9599\n",
            "Epoch 151/200\n",
            "4/4 [==============================] - 0s 62ms/step - loss: 0.0706 - dice_coef: 0.9599 - val_loss: 0.0627 - val_dice_coef: 0.9617\n",
            "Epoch 152/200\n",
            "4/4 [==============================] - 0s 62ms/step - loss: 0.0708 - dice_coef: 0.9591 - val_loss: 0.0650 - val_dice_coef: 0.9602\n",
            "Epoch 153/200\n",
            "4/4 [==============================] - 0s 63ms/step - loss: 0.0716 - dice_coef: 0.9592 - val_loss: 0.0614 - val_dice_coef: 0.9624\n",
            "Epoch 154/200\n",
            "4/4 [==============================] - 0s 64ms/step - loss: 0.0669 - dice_coef: 0.9619 - val_loss: 0.0606 - val_dice_coef: 0.9630\n",
            "Epoch 155/200\n",
            "4/4 [==============================] - 0s 61ms/step - loss: 0.0703 - dice_coef: 0.9599 - val_loss: 0.0607 - val_dice_coef: 0.9628\n",
            "Epoch 156/200\n",
            "4/4 [==============================] - 0s 63ms/step - loss: 0.0675 - dice_coef: 0.9616 - val_loss: 0.0601 - val_dice_coef: 0.9623\n",
            "Epoch 157/200\n",
            "4/4 [==============================] - 0s 62ms/step - loss: 0.0671 - dice_coef: 0.9608 - val_loss: 0.0608 - val_dice_coef: 0.9624\n",
            "Epoch 158/200\n",
            "4/4 [==============================] - 0s 64ms/step - loss: 0.0661 - dice_coef: 0.9621 - val_loss: 0.0577 - val_dice_coef: 0.9632\n",
            "Epoch 159/200\n",
            "4/4 [==============================] - 0s 63ms/step - loss: 0.0683 - dice_coef: 0.9606 - val_loss: 0.0609 - val_dice_coef: 0.9622\n",
            "Epoch 160/200\n",
            "4/4 [==============================] - 0s 63ms/step - loss: 0.0671 - dice_coef: 0.9608 - val_loss: 0.0617 - val_dice_coef: 0.9641\n",
            "Epoch 161/200\n",
            "4/4 [==============================] - 0s 60ms/step - loss: 0.0645 - dice_coef: 0.9632 - val_loss: 0.0572 - val_dice_coef: 0.9633\n",
            "Epoch 162/200\n",
            "4/4 [==============================] - 0s 61ms/step - loss: 0.0639 - dice_coef: 0.9624 - val_loss: 0.0561 - val_dice_coef: 0.9643\n",
            "Epoch 163/200\n",
            "4/4 [==============================] - 0s 63ms/step - loss: 0.0646 - dice_coef: 0.9621 - val_loss: 0.0569 - val_dice_coef: 0.9650\n",
            "Epoch 164/200\n",
            "4/4 [==============================] - 0s 62ms/step - loss: 0.0639 - dice_coef: 0.9634 - val_loss: 0.0554 - val_dice_coef: 0.9652\n",
            "Epoch 165/200\n",
            "4/4 [==============================] - 0s 62ms/step - loss: 0.0656 - dice_coef: 0.9621 - val_loss: 0.0569 - val_dice_coef: 0.9648\n",
            "Epoch 166/200\n",
            "4/4 [==============================] - 0s 64ms/step - loss: 0.0621 - dice_coef: 0.9644 - val_loss: 0.0555 - val_dice_coef: 0.9645\n",
            "Epoch 167/200\n",
            "4/4 [==============================] - 0s 62ms/step - loss: 0.0634 - dice_coef: 0.9628 - val_loss: 0.0583 - val_dice_coef: 0.9647\n",
            "Epoch 168/200\n",
            "4/4 [==============================] - 0s 59ms/step - loss: 0.0635 - dice_coef: 0.9632 - val_loss: 0.0544 - val_dice_coef: 0.9658\n",
            "Epoch 169/200\n",
            "4/4 [==============================] - 0s 61ms/step - loss: 0.0623 - dice_coef: 0.9639 - val_loss: 0.0532 - val_dice_coef: 0.9652\n",
            "Epoch 170/200\n",
            "4/4 [==============================] - 0s 64ms/step - loss: 0.0608 - dice_coef: 0.9634 - val_loss: 0.0538 - val_dice_coef: 0.9661\n",
            "Epoch 171/200\n",
            "4/4 [==============================] - 0s 61ms/step - loss: 0.0615 - dice_coef: 0.9643 - val_loss: 0.0587 - val_dice_coef: 0.9645\n",
            "Epoch 172/200\n",
            "4/4 [==============================] - 0s 61ms/step - loss: 0.0620 - dice_coef: 0.9640 - val_loss: 0.0558 - val_dice_coef: 0.9655\n",
            "Epoch 173/200\n",
            "4/4 [==============================] - 0s 63ms/step - loss: 0.0615 - dice_coef: 0.9649 - val_loss: 0.0561 - val_dice_coef: 0.9642\n",
            "Epoch 174/200\n",
            "4/4 [==============================] - 0s 62ms/step - loss: 0.0631 - dice_coef: 0.9632 - val_loss: 0.0531 - val_dice_coef: 0.9665\n",
            "Epoch 175/200\n",
            "4/4 [==============================] - 0s 64ms/step - loss: 0.0613 - dice_coef: 0.9641 - val_loss: 0.0523 - val_dice_coef: 0.9658\n",
            "Epoch 176/200\n",
            "4/4 [==============================] - 0s 62ms/step - loss: 0.0591 - dice_coef: 0.9644 - val_loss: 0.0524 - val_dice_coef: 0.9662\n",
            "Epoch 177/200\n",
            "4/4 [==============================] - 0s 62ms/step - loss: 0.0599 - dice_coef: 0.9650 - val_loss: 0.0522 - val_dice_coef: 0.9668\n",
            "Epoch 178/200\n",
            "4/4 [==============================] - 0s 61ms/step - loss: 0.0611 - dice_coef: 0.9644 - val_loss: 0.0503 - val_dice_coef: 0.9669\n",
            "Epoch 179/200\n",
            "4/4 [==============================] - 0s 63ms/step - loss: 0.0585 - dice_coef: 0.9655 - val_loss: 0.0493 - val_dice_coef: 0.9681\n",
            "Epoch 180/200\n",
            "4/4 [==============================] - 0s 76ms/step - loss: 0.0572 - dice_coef: 0.9663 - val_loss: 0.0494 - val_dice_coef: 0.9679\n",
            "Epoch 181/200\n",
            "4/4 [==============================] - 0s 64ms/step - loss: 0.0576 - dice_coef: 0.9661 - val_loss: 0.0502 - val_dice_coef: 0.9682\n",
            "Epoch 182/200\n",
            "4/4 [==============================] - 0s 64ms/step - loss: 0.0571 - dice_coef: 0.9670 - val_loss: 0.0512 - val_dice_coef: 0.9678\n",
            "Epoch 183/200\n",
            "4/4 [==============================] - 0s 65ms/step - loss: 0.0561 - dice_coef: 0.9668 - val_loss: 0.0502 - val_dice_coef: 0.9681\n",
            "Epoch 184/200\n",
            "4/4 [==============================] - 0s 63ms/step - loss: 0.0552 - dice_coef: 0.9679 - val_loss: 0.0482 - val_dice_coef: 0.9686\n",
            "Epoch 185/200\n",
            "4/4 [==============================] - 0s 62ms/step - loss: 0.0568 - dice_coef: 0.9665 - val_loss: 0.0475 - val_dice_coef: 0.9689\n",
            "Epoch 186/200\n",
            "4/4 [==============================] - 0s 62ms/step - loss: 0.0568 - dice_coef: 0.9668 - val_loss: 0.0515 - val_dice_coef: 0.9679\n",
            "Epoch 187/200\n",
            "4/4 [==============================] - 0s 62ms/step - loss: 0.0574 - dice_coef: 0.9659 - val_loss: 0.0493 - val_dice_coef: 0.9682\n",
            "Epoch 188/200\n",
            "4/4 [==============================] - 0s 67ms/step - loss: 0.0562 - dice_coef: 0.9672 - val_loss: 0.0494 - val_dice_coef: 0.9681\n",
            "Epoch 189/200\n",
            "4/4 [==============================] - 0s 63ms/step - loss: 0.0544 - dice_coef: 0.9671 - val_loss: 0.0493 - val_dice_coef: 0.9687\n",
            "Epoch 190/200\n",
            "4/4 [==============================] - 0s 66ms/step - loss: 0.0564 - dice_coef: 0.9671 - val_loss: 0.0448 - val_dice_coef: 0.9703\n",
            "Epoch 191/200\n",
            "4/4 [==============================] - 0s 63ms/step - loss: 0.0562 - dice_coef: 0.9672 - val_loss: 0.0494 - val_dice_coef: 0.9676\n",
            "Epoch 192/200\n",
            "4/4 [==============================] - 0s 62ms/step - loss: 0.0566 - dice_coef: 0.9661 - val_loss: 0.0462 - val_dice_coef: 0.9706\n",
            "Epoch 193/200\n",
            "4/4 [==============================] - 0s 63ms/step - loss: 0.0557 - dice_coef: 0.9684 - val_loss: 0.0481 - val_dice_coef: 0.9688\n",
            "Epoch 194/200\n",
            "4/4 [==============================] - 0s 61ms/step - loss: 0.0531 - dice_coef: 0.9677 - val_loss: 0.0474 - val_dice_coef: 0.9692\n",
            "Epoch 195/200\n",
            "4/4 [==============================] - 0s 63ms/step - loss: 0.0594 - dice_coef: 0.9664 - val_loss: 0.0501 - val_dice_coef: 0.9684\n",
            "Epoch 196/200\n",
            "4/4 [==============================] - 0s 64ms/step - loss: 0.0553 - dice_coef: 0.9674 - val_loss: 0.0467 - val_dice_coef: 0.9694\n",
            "Epoch 197/200\n",
            "4/4 [==============================] - 0s 61ms/step - loss: 0.0536 - dice_coef: 0.9682 - val_loss: 0.0460 - val_dice_coef: 0.9701\n",
            "Epoch 198/200\n",
            "4/4 [==============================] - 0s 63ms/step - loss: 0.0545 - dice_coef: 0.9674 - val_loss: 0.0443 - val_dice_coef: 0.9708\n",
            "Epoch 199/200\n",
            "4/4 [==============================] - 0s 62ms/step - loss: 0.0522 - dice_coef: 0.9691 - val_loss: 0.0457 - val_dice_coef: 0.9695\n",
            "Epoch 200/200\n",
            "4/4 [==============================] - 0s 65ms/step - loss: 0.0521 - dice_coef: 0.9681 - val_loss: 0.0451 - val_dice_coef: 0.9713\n"
          ],
          "name": "stdout"
        }
      ]
    },
    {
      "cell_type": "code",
      "metadata": {
        "colab": {
          "base_uri": "https://localhost:8080/"
        },
        "id": "1h2Q8IcKdXzY",
        "outputId": "b09e2c18-c83d-4883-ceff-4059995a828d"
      },
      "source": [
        "model.save('UNet_Final_Model.hdf5')\n",
        "model.save('UNet_Final_Model.h5')\n",
        "\n",
        "############################################################\n",
        "#Evaluate the model\n",
        "\t# evaluate model\n",
        "_, acc = model.evaluate(X_test, y_test_cat)\n",
        "print(\"Accuracy is = \", (acc * 100.0), \"%\")\n"
      ],
      "execution_count": null,
      "outputs": [
        {
          "output_type": "stream",
          "text": [
            "2/2 [==============================] - 0s 38ms/step - loss: 0.0451 - dice_coef: 0.9713\n",
            "Accuracy is =  97.13170528411865 %\n"
          ],
          "name": "stdout"
        }
      ]
    },
    {
      "cell_type": "markdown",
      "metadata": {
        "id": "ZvXCBE_Vfnjf"
      },
      "source": [
        "# Generating Model Performance Report"
      ]
    },
    {
      "cell_type": "code",
      "metadata": {
        "colab": {
          "base_uri": "https://localhost:8080/",
          "height": 295
        },
        "id": "xPYFMRuYd46U",
        "outputId": "c7f820fa-d0cf-40c8-adf6-cb00c64db420"
      },
      "source": [
        "loss = history.history['loss']\n",
        "val_loss = history.history['val_loss']\n",
        "epochs = range(1, len(loss) + 1)\n",
        "plt.plot(epochs, loss, 'y', label='Training loss')\n",
        "plt.plot(epochs, val_loss, 'r', label='Validation loss')\n",
        "plt.title('Training and validation loss')\n",
        "plt.xlabel('Epochs')\n",
        "plt.ylabel('Loss')\n",
        "plt.legend()\n",
        "plt.show()"
      ],
      "execution_count": null,
      "outputs": [
        {
          "output_type": "display_data",
          "data": {
            "image/png": "[encoded data removed]",
            "text/plain": [
              "<Figure size 432x288 with 1 Axes>"
            ]
          },
          "metadata": {
            "tags": [],
            "needs_background": "light"
          }
        }
      ]
    },
    {
      "cell_type": "code",
      "metadata": {
        "colab": {
          "base_uri": "https://localhost:8080/",
          "height": 295
        },
        "id": "NNZe0KVod60C",
        "outputId": "06f66672-3e10-41d3-f700-1b110f96b470"
      },
      "source": [
        "acc = history.history['dice_coef']\n",
        "val_acc = history.history['val_dice_coef']\n",
        "\n",
        "plt.plot(epochs, acc, 'y', label='Training Dice Coefficient')\n",
        "plt.plot(epochs, val_acc, 'r', label='Validation Dice Coefficient')\n",
        "plt.title('Training and validation Dice Coefficient')\n",
        "plt.xlabel('Epochs')\n",
        "plt.ylabel('Dice Coefficient')\n",
        "plt.legend()\n",
        "plt.show()"
      ],
      "execution_count": null,
      "outputs": [
        {
          "output_type": "display_data",
          "data": {
            "image/png": "[encoded data removed]",
            "text/plain": [
              "<Figure size 432x288 with 1 Axes>"
            ]
          },
          "metadata": {
            "tags": [],
            "needs_background": "light"
          }
        }
      ]
    },
    {
      "cell_type": "code",
      "metadata": {
        "id": "7h0wp9uId9h7"
      },
      "source": [
        "y_pred=model.predict(X_test)\n",
        "y_pred_argmax=np.argmax(y_pred, axis=3)\n"
      ],
      "execution_count": null,
      "outputs": []
    },
    {
      "cell_type": "markdown",
      "metadata": {
        "id": "xkXhkuxYftOx"
      },
      "source": [
        "**Finding out the mean IOU as it also gives a measure on the model performance**"
      ]
    },
    {
      "cell_type": "code",
      "metadata": {
        "colab": {
          "base_uri": "https://localhost:8080/"
        },
        "id": "9dS7w5M0eDfo",
        "outputId": "d17093fd-102c-45d4-f04e-4b5d9dbd44b2"
      },
      "source": [
        "\n",
        "from keras.metrics import MeanIoU\n",
        "n_classes = 6\n",
        "IOU_keras = MeanIoU(num_classes=n_classes)  \n",
        "IOU_keras.update_state(y_test[:,:,:,0], y_pred_argmax)\n",
        "print(\"Mean IoU =\", IOU_keras.result().numpy())"
      ],
      "execution_count": null,
      "outputs": [
        {
          "output_type": "stream",
          "text": [
            "Mean IoU = 0.8080509\n"
          ],
          "name": "stdout"
        }
      ]
    },
    {
      "cell_type": "code",
      "metadata": {
        "colab": {
          "base_uri": "https://localhost:8080/",
          "height": 285
        },
        "id": "EK6DOsFjeGfK",
        "outputId": "e9b0fdac-2e85-44d5-91cb-1c86295b012a"
      },
      "source": [
        "plt.imshow(train_images[0, :,:,0], cmap='gray')\n",
        "# plt.imshow(masks[0], cmap='gray')"
      ],
      "execution_count": null,
      "outputs": [
        {
          "output_type": "execute_result",
          "data": {
            "text/plain": [
              "<matplotlib.image.AxesImage at 0x7fae4c4e0a90>"
            ]
          },
          "metadata": {
            "tags": []
          },
          "execution_count": 132
        },
        {
          "output_type": "display_data",
          "data": {
            "image/png": "[encoded data removed]",
            "text/plain": [
              "<Figure size 432x288 with 1 Axes>"
            ]
          },
          "metadata": {
            "tags": [],
            "needs_background": "light"
          }
        }
      ]
    },
    {
      "cell_type": "markdown",
      "metadata": {
        "id": "rcr0XUb3f2Nz"
      },
      "source": [
        "# Visualizing the Predictions Performed"
      ]
    },
    {
      "cell_type": "markdown",
      "metadata": {
        "id": "L4QTLOwpgAj-"
      },
      "source": [
        "## On Validation Dataset"
      ]
    },
    {
      "cell_type": "code",
      "metadata": {
        "id": "KKLFXrcypeeq"
      },
      "source": [
        "import random\n",
        "test_img_number = random.randint(0, len(X_test)-1)\n",
        "test_img = X_test[test_img_number]\n",
        "ground_truth=y_test[test_img_number]\n",
        "test_img_norm=test_img[:,:,0][:,:,None]\n",
        "test_img_input=np.expand_dims(test_img_norm, 0)\n",
        "prediction = (model.predict(test_img_input))\n",
        "predicted_img=np.argmax(prediction, axis=3)[0,:,:]"
      ],
      "execution_count": null,
      "outputs": []
    },
    {
      "cell_type": "code",
      "metadata": {
        "colab": {
          "base_uri": "https://localhost:8080/",
          "height": 261
        },
        "id": "uPe_7Uu7pd94",
        "outputId": "9bd11edd-ed7f-4c4e-d945-6062058d0dbe"
      },
      "source": [
        "plt.figure(figsize=(12, 8))\n",
        "plt.subplot(231)\n",
        "plt.title('Testing Image')\n",
        "plt.imshow(test_img[:,:,0], cmap='gray')\n",
        "plt.subplot(232)\n",
        "plt.title('Testing Label')\n",
        "plt.imshow(ground_truth[:,:,0], cmap='jet')\n",
        "plt.subplot(233)\n",
        "plt.title('Prediction on test image')\n",
        "plt.imshow(predicted_img, cmap='jet')\n",
        "plt.show()"
      ],
      "execution_count": null,
      "outputs": [
        {
          "output_type": "display_data",
          "data": {
            "image/png": "[encoded data removed]",
            "text/plain": [
              "<Figure size 864x576 with 3 Axes>"
            ]
          },
          "metadata": {
            "tags": [],
            "needs_background": "light"
          }
        }
      ]
    },
    {
      "cell_type": "markdown",
      "metadata": {
        "id": "x9Z42TlmgFxJ"
      },
      "source": [
        "## On Test Image Dataset"
      ]
    },
    {
      "cell_type": "code",
      "metadata": {
        "id": "jKwHq9zfKawH"
      },
      "source": [
        "X_test= test_images"
      ],
      "execution_count": null,
      "outputs": []
    },
    {
      "cell_type": "code",
      "metadata": {
        "id": "UsCm8RXOeO7x"
      },
      "source": [
        "import random\n",
        "# test_img_number = random.randint(0, len(X_test)-1)\n",
        "test_img_number =2\n",
        "test_img = X_test[test_img_number]\n",
        "ground_truth=y_test[test_img_number]\n",
        "test_img_norm=test_img[:,:,0][:,:,None]\n",
        "test_img_input=np.expand_dims(test_img_norm, 0)\n",
        "prediction = (model.predict(test_img_input))\n",
        "predicted_img=np.argmax(prediction, axis=3)[0,:,:]"
      ],
      "execution_count": null,
      "outputs": []
    },
    {
      "cell_type": "code",
      "metadata": {
        "colab": {
          "base_uri": "https://localhost:8080/",
          "height": 261
        },
        "id": "vSPIL3zafGj-",
        "outputId": "89627496-81c4-404b-bf5e-2f87ee91c0a2"
      },
      "source": [
        "plt.figure(figsize=(12, 8))\n",
        "plt.subplot(231)\n",
        "plt.title('Testing Image')\n",
        "plt.imshow(test_img[:,:,0], cmap='gray')\n",
        "# plt.subplot(232)\n",
        "# plt.title('Testing Label')\n",
        "# plt.imshow(ground_truth[:,:,0], cmap='jet')\n",
        "plt.subplot(232)\n",
        "plt.title('Prediction on test image')\n",
        "plt.imshow(predicted_img, cmap='jet')\n",
        "plt.show()\n"
      ],
      "execution_count": null,
      "outputs": [
        {
          "output_type": "display_data",
          "data": {
            "image/png": "[encoded data removed]",
            "text/plain": [
              "<Figure size 864x576 with 2 Axes>"
            ]
          },
          "metadata": {
            "tags": [],
            "needs_background": "light"
          }
        }
      ]
    },
    {
      "cell_type": "markdown",
      "metadata": {
        "id": "uESbvHKNgKRK"
      },
      "source": [
        "# Generating the Output Files"
      ]
    },
    {
      "cell_type": "code",
      "metadata": {
        "id": "DJLcWLsK1fbF"
      },
      "source": [
        "# test_img_number = random.randint(0, len(X_test))\n",
        "count = len(X_test)\n",
        "test_labels = {}\n",
        "for test_img_number in range(0,count):\n",
        "  test_img = X_test[test_img_number]\n",
        "  # ground_truth=y_test[test_img_number]\n",
        "  test_img_norm=test_img[:,:,0][:,:,None]\n",
        "  test_img_input=np.expand_dims(test_img_norm, 0)\n",
        "  prediction = (model.predict(test_img_input))\n",
        "  predicted_img=np.argmax(prediction, axis=3)[0,:,:]\n",
        "  test_labels[test_img_number]= predicted_img\n",
        "\n",
        "\n"
      ],
      "execution_count": null,
      "outputs": []
    },
    {
      "cell_type": "code",
      "metadata": {
        "id": "lPrsFOKmUd2t"
      },
      "source": [
        "with open(\"UNetPredictions.txt\", 'w') as f: \n",
        "    for key, value in test_labels.items(): \n",
        "        f.write('%s:%s\\n' % (key, value))"
      ],
      "execution_count": null,
      "outputs": []
    },
    {
      "cell_type": "code",
      "metadata": {
        "id": "AyodlyMbWoSG"
      },
      "source": [
        ""
      ],
      "execution_count": null,
      "outputs": []
    }
  ]
}